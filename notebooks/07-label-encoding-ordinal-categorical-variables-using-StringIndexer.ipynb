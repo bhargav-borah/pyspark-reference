{
 "cells": [
  {
   "cell_type": "code",
   "execution_count": 6,
   "id": "0fa8b635",
   "metadata": {},
   "outputs": [],
   "source": [
    "from pyspark.sql import SparkSession\n",
    "from pyspark.ml.regression import LinearRegression\n",
    "from pyspark.ml.feature import VectorAssembler, StringIndexer"
   ]
  },
  {
   "cell_type": "code",
   "execution_count": 2,
   "id": "bf6052bc",
   "metadata": {},
   "outputs": [
    {
     "data": {
      "text/html": [
       "\n",
       "            <div>\n",
       "                <p><b>SparkSession - in-memory</b></p>\n",
       "                \n",
       "        <div>\n",
       "            <p><b>SparkContext</b></p>\n",
       "\n",
       "            <p><a href=\"http://ANUPAM:4040\">Spark UI</a></p>\n",
       "\n",
       "            <dl>\n",
       "              <dt>Version</dt>\n",
       "                <dd><code>v3.5.1</code></dd>\n",
       "              <dt>Master</dt>\n",
       "                <dd><code>local[*]</code></dd>\n",
       "              <dt>AppName</dt>\n",
       "                <dd><code>session-07</code></dd>\n",
       "            </dl>\n",
       "        </div>\n",
       "        \n",
       "            </div>\n",
       "        "
      ],
      "text/plain": [
       "<pyspark.sql.session.SparkSession at 0x2424efd4070>"
      ]
     },
     "execution_count": 2,
     "metadata": {},
     "output_type": "execute_result"
    }
   ],
   "source": [
    "spark = SparkSession.builder.appName('session-07').getOrCreate()\n",
    "spark"
   ]
  },
  {
   "cell_type": "code",
   "execution_count": 21,
   "id": "cd01f4a4",
   "metadata": {},
   "outputs": [
    {
     "name": "stdout",
     "output_type": "stream",
     "text": [
      "+----------+----+------+------+---+------+----+\n",
      "|total_bill| tip|   sex|smoker|day|  time|size|\n",
      "+----------+----+------+------+---+------+----+\n",
      "|     16.99|1.01|Female|    No|Sun|Dinner|   2|\n",
      "|     10.34|1.66|  Male|    No|Sun|Dinner|   3|\n",
      "|     21.01| 3.5|  Male|    No|Sun|Dinner|   3|\n",
      "|     23.68|3.31|  Male|    No|Sun|Dinner|   2|\n",
      "|     24.59|3.61|Female|    No|Sun|Dinner|   4|\n",
      "|     25.29|4.71|  Male|    No|Sun|Dinner|   4|\n",
      "|      8.77| 2.0|  Male|    No|Sun|Dinner|   2|\n",
      "|     26.88|3.12|  Male|    No|Sun|Dinner|   4|\n",
      "|     15.04|1.96|  Male|    No|Sun|Dinner|   2|\n",
      "|     14.78|3.23|  Male|    No|Sun|Dinner|   2|\n",
      "|     10.27|1.71|  Male|    No|Sun|Dinner|   2|\n",
      "|     35.26| 5.0|Female|    No|Sun|Dinner|   4|\n",
      "|     15.42|1.57|  Male|    No|Sun|Dinner|   2|\n",
      "|     18.43| 3.0|  Male|    No|Sun|Dinner|   4|\n",
      "|     14.83|3.02|Female|    No|Sun|Dinner|   2|\n",
      "|     21.58|3.92|  Male|    No|Sun|Dinner|   2|\n",
      "|     10.33|1.67|Female|    No|Sun|Dinner|   3|\n",
      "|     16.29|3.71|  Male|    No|Sun|Dinner|   3|\n",
      "|     16.97| 3.5|Female|    No|Sun|Dinner|   3|\n",
      "|     20.65|3.35|  Male|    No|Sat|Dinner|   3|\n",
      "+----------+----+------+------+---+------+----+\n",
      "only showing top 20 rows\n",
      "\n"
     ]
    }
   ],
   "source": [
    "df = spark.read.csv('../data/tips.csv',\n",
    "                    header=True,\n",
    "                    inferSchema=True)\n",
    "df.show()"
   ]
  },
  {
   "cell_type": "code",
   "execution_count": 22,
   "id": "6038c682",
   "metadata": {},
   "outputs": [
    {
     "data": {
      "text/plain": [
       "[('total_bill', 'double'),\n",
       " ('tip', 'double'),\n",
       " ('sex', 'string'),\n",
       " ('smoker', 'string'),\n",
       " ('day', 'string'),\n",
       " ('time', 'string'),\n",
       " ('size', 'int')]"
      ]
     },
     "execution_count": 22,
     "metadata": {},
     "output_type": "execute_result"
    }
   ],
   "source": [
    "df.dtypes"
   ]
  },
  {
   "cell_type": "code",
   "execution_count": 23,
   "id": "61ecd5cd",
   "metadata": {},
   "outputs": [
    {
     "data": {
      "text/plain": [
       "['total_bill', 'tip', 'sex', 'smoker', 'day', 'time', 'size']"
      ]
     },
     "execution_count": 23,
     "metadata": {},
     "output_type": "execute_result"
    }
   ],
   "source": [
    "df.columns"
   ]
  },
  {
   "cell_type": "code",
   "execution_count": 24,
   "id": "e9e78844",
   "metadata": {},
   "outputs": [
    {
     "name": "stdout",
     "output_type": "stream",
     "text": [
      "+----------+----+------+------+---+------+----+-----------+--------------+-----------+------------+\n",
      "|total_bill| tip|   sex|smoker|day|  time|size|sex_indexed|smoker_indexed|day_indexed|time_indexed|\n",
      "+----------+----+------+------+---+------+----+-----------+--------------+-----------+------------+\n",
      "|     16.99|1.01|Female|    No|Sun|Dinner|   2|        1.0|           0.0|        1.0|         0.0|\n",
      "|     10.34|1.66|  Male|    No|Sun|Dinner|   3|        0.0|           0.0|        1.0|         0.0|\n",
      "|     21.01| 3.5|  Male|    No|Sun|Dinner|   3|        0.0|           0.0|        1.0|         0.0|\n",
      "|     23.68|3.31|  Male|    No|Sun|Dinner|   2|        0.0|           0.0|        1.0|         0.0|\n",
      "|     24.59|3.61|Female|    No|Sun|Dinner|   4|        1.0|           0.0|        1.0|         0.0|\n",
      "|     25.29|4.71|  Male|    No|Sun|Dinner|   4|        0.0|           0.0|        1.0|         0.0|\n",
      "|      8.77| 2.0|  Male|    No|Sun|Dinner|   2|        0.0|           0.0|        1.0|         0.0|\n",
      "|     26.88|3.12|  Male|    No|Sun|Dinner|   4|        0.0|           0.0|        1.0|         0.0|\n",
      "|     15.04|1.96|  Male|    No|Sun|Dinner|   2|        0.0|           0.0|        1.0|         0.0|\n",
      "|     14.78|3.23|  Male|    No|Sun|Dinner|   2|        0.0|           0.0|        1.0|         0.0|\n",
      "|     10.27|1.71|  Male|    No|Sun|Dinner|   2|        0.0|           0.0|        1.0|         0.0|\n",
      "|     35.26| 5.0|Female|    No|Sun|Dinner|   4|        1.0|           0.0|        1.0|         0.0|\n",
      "|     15.42|1.57|  Male|    No|Sun|Dinner|   2|        0.0|           0.0|        1.0|         0.0|\n",
      "|     18.43| 3.0|  Male|    No|Sun|Dinner|   4|        0.0|           0.0|        1.0|         0.0|\n",
      "|     14.83|3.02|Female|    No|Sun|Dinner|   2|        1.0|           0.0|        1.0|         0.0|\n",
      "|     21.58|3.92|  Male|    No|Sun|Dinner|   2|        0.0|           0.0|        1.0|         0.0|\n",
      "|     10.33|1.67|Female|    No|Sun|Dinner|   3|        1.0|           0.0|        1.0|         0.0|\n",
      "|     16.29|3.71|  Male|    No|Sun|Dinner|   3|        0.0|           0.0|        1.0|         0.0|\n",
      "|     16.97| 3.5|Female|    No|Sun|Dinner|   3|        1.0|           0.0|        1.0|         0.0|\n",
      "|     20.65|3.35|  Male|    No|Sat|Dinner|   3|        0.0|           0.0|        0.0|         0.0|\n",
      "+----------+----+------+------+---+------+----+-----------+--------------+-----------+------------+\n",
      "only showing top 20 rows\n",
      "\n"
     ]
    }
   ],
   "source": [
    "indexer = StringIndexer(\n",
    "    inputCols=['sex', 'smoker', 'day', 'time'],\n",
    "    outputCols=['sex_indexed', 'smoker_indexed', 'day_indexed', 'time_indexed']\n",
    ")\n",
    "\n",
    "df_processed = indexer.fit(df).transform(df)\n",
    "df_processed.show()"
   ]
  },
  {
   "cell_type": "code",
   "execution_count": 25,
   "id": "135ddc4b",
   "metadata": {},
   "outputs": [],
   "source": [
    "feature_assembler = VectorAssembler(\n",
    "    inputCols=['tip', 'sex_indexed', 'smoker_indexed', 'day_indexed', 'time_indexed', 'size'],\n",
    "    outputCol='feature_vector'\n",
    ")\n",
    "\n",
    "df_processed = feature_assembler.transform(df_processed)"
   ]
  },
  {
   "cell_type": "code",
   "execution_count": 26,
   "id": "4cad9999",
   "metadata": {},
   "outputs": [
    {
     "name": "stdout",
     "output_type": "stream",
     "text": [
      "+--------------------+----------+\n",
      "|      feature_vector|total_bill|\n",
      "+--------------------+----------+\n",
      "|[1.01,1.0,0.0,1.0...|     16.99|\n",
      "|[1.66,0.0,0.0,1.0...|     10.34|\n",
      "|[3.5,0.0,0.0,1.0,...|     21.01|\n",
      "|[3.31,0.0,0.0,1.0...|     23.68|\n",
      "|[3.61,1.0,0.0,1.0...|     24.59|\n",
      "|[4.71,0.0,0.0,1.0...|     25.29|\n",
      "|[2.0,0.0,0.0,1.0,...|      8.77|\n",
      "|[3.12,0.0,0.0,1.0...|     26.88|\n",
      "|[1.96,0.0,0.0,1.0...|     15.04|\n",
      "|[3.23,0.0,0.0,1.0...|     14.78|\n",
      "|[1.71,0.0,0.0,1.0...|     10.27|\n",
      "|[5.0,1.0,0.0,1.0,...|     35.26|\n",
      "|[1.57,0.0,0.0,1.0...|     15.42|\n",
      "|[3.0,0.0,0.0,1.0,...|     18.43|\n",
      "|[3.02,1.0,0.0,1.0...|     14.83|\n",
      "|[3.92,0.0,0.0,1.0...|     21.58|\n",
      "|[1.67,1.0,0.0,1.0...|     10.33|\n",
      "|[3.71,0.0,0.0,1.0...|     16.29|\n",
      "|[3.5,1.0,0.0,1.0,...|     16.97|\n",
      "|(6,[0,5],[3.35,3.0])|     20.65|\n",
      "+--------------------+----------+\n",
      "only showing top 20 rows\n",
      "\n"
     ]
    }
   ],
   "source": [
    "final_df = df_processed.select('feature_vector', 'total_bill')\n",
    "final_df.show()"
   ]
  },
  {
   "cell_type": "code",
   "execution_count": 27,
   "id": "51e2655d",
   "metadata": {},
   "outputs": [],
   "source": [
    "train_data, test_data = final_df.randomSplit([0.25, 0.75])\n",
    "model = LinearRegression(featuresCol='feature_vector',\n",
    "                         labelCol='total_bill')\n",
    "model = model.fit(train_data)"
   ]
  },
  {
   "cell_type": "code",
   "execution_count": 28,
   "id": "0587a3f7",
   "metadata": {},
   "outputs": [],
   "source": [
    "result_summary = model.evaluate(test_data)"
   ]
  },
  {
   "cell_type": "code",
   "execution_count": 30,
   "id": "c2534725",
   "metadata": {},
   "outputs": [
    {
     "name": "stdout",
     "output_type": "stream",
     "text": [
      "+--------------------+----------+------------------+\n",
      "|      feature_vector|total_bill|        prediction|\n",
      "+--------------------+----------+------------------+\n",
      "|(6,[0,5],[1.25,2.0])|     10.07| 9.078786573580397|\n",
      "|(6,[0,5],[1.25,2.0])|     10.51| 9.078786573580397|\n",
      "|(6,[0,5],[1.97,2.0])|     12.02|11.956527829332627|\n",
      "| (6,[0,5],[2.0,2.0])|     12.69| 12.07643371498897|\n",
      "| (6,[0,5],[2.0,2.0])|     13.37| 12.07643371498897|\n",
      "|(6,[0,5],[2.01,2.0])|     20.23|12.116402343541083|\n",
      "|(6,[0,5],[2.24,3.0])|     16.04| 16.39911381366096|\n",
      "|(6,[0,5],[2.34,4.0])|     17.81|20.162233112603346|\n",
      "| (6,[0,5],[2.5,4.0])|     18.35|20.801731169437176|\n",
      "|(6,[0,5],[2.64,3.0])|     17.59|17.997858955745528|\n",
      "|(6,[0,5],[2.72,2.0])|     13.28|14.954174970741201|\n",
      "| (6,[0,5],[3.0,2.0])|      14.0|16.073296570200398|\n",
      "| (6,[0,5],[3.0,4.0])|     20.45|22.800162597042885|\n",
      "|(6,[0,5],[3.15,3.0])|     20.08| 20.03625901190336|\n",
      "|(6,[0,5],[3.18,2.0])|     19.82|16.792731884138462|\n",
      "|(6,[0,5],[3.27,2.0])|     17.78|17.152449541107487|\n",
      "|(6,[0,5],[3.35,3.0])|     20.65|20.835631582945645|\n",
      "| (6,[0,5],[3.6,3.0])|     24.06|21.834847296748507|\n",
      "|(6,[0,5],[3.76,2.0])|     18.24|19.110912340161086|\n",
      "| (6,[0,5],[4.3,2.0])|      21.7|21.269218281975263|\n",
      "+--------------------+----------+------------------+\n",
      "only showing top 20 rows\n",
      "\n"
     ]
    }
   ],
   "source": [
    "result_summary.predictions.show()"
   ]
  },
  {
   "cell_type": "code",
   "execution_count": 31,
   "id": "af26a80f",
   "metadata": {},
   "outputs": [
    {
     "data": {
      "text/plain": [
       "(4.535212582830957, 42.08169257414803)"
      ]
     },
     "execution_count": 31,
     "metadata": {},
     "output_type": "execute_result"
    }
   ],
   "source": [
    "result_summary.meanAbsoluteError, result_summary.meanSquaredError"
   ]
  },
  {
   "cell_type": "code",
   "execution_count": null,
   "id": "2b6470c8",
   "metadata": {},
   "outputs": [],
   "source": []
  }
 ],
 "metadata": {
  "kernelspec": {
   "display_name": "Python 3 (ipykernel)",
   "language": "python",
   "name": "python3"
  },
  "language_info": {
   "codemirror_mode": {
    "name": "ipython",
    "version": 3
   },
   "file_extension": ".py",
   "mimetype": "text/x-python",
   "name": "python",
   "nbconvert_exporter": "python",
   "pygments_lexer": "ipython3",
   "version": "3.9.13"
  }
 },
 "nbformat": 4,
 "nbformat_minor": 5
}
