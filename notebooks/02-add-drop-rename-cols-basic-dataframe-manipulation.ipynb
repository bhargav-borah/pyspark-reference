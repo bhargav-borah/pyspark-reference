{
 "cells": [
  {
   "cell_type": "code",
   "execution_count": 1,
   "id": "15895916",
   "metadata": {},
   "outputs": [],
   "source": [
    "from pyspark.sql import SparkSession"
   ]
  },
  {
   "cell_type": "code",
   "execution_count": 2,
   "id": "bf40b5e6",
   "metadata": {},
   "outputs": [
    {
     "data": {
      "text/html": [
       "\n",
       "            <div>\n",
       "                <p><b>SparkSession - in-memory</b></p>\n",
       "                \n",
       "        <div>\n",
       "            <p><b>SparkContext</b></p>\n",
       "\n",
       "            <p><a href=\"http://ANUPAM:4041\">Spark UI</a></p>\n",
       "\n",
       "            <dl>\n",
       "              <dt>Version</dt>\n",
       "                <dd><code>v3.5.1</code></dd>\n",
       "              <dt>Master</dt>\n",
       "                <dd><code>local[*]</code></dd>\n",
       "              <dt>AppName</dt>\n",
       "                <dd><code>dataframe</code></dd>\n",
       "            </dl>\n",
       "        </div>\n",
       "        \n",
       "            </div>\n",
       "        "
      ],
      "text/plain": [
       "<pyspark.sql.session.SparkSession at 0x1d1b5cbd730>"
      ]
     },
     "execution_count": 2,
     "metadata": {},
     "output_type": "execute_result"
    }
   ],
   "source": [
    "spark = SparkSession.builder.appName('dataframe').getOrCreate()\n",
    "spark"
   ]
  },
  {
   "cell_type": "markdown",
   "id": "df7376b0",
   "metadata": {},
   "source": [
    "## 1. Read the dataset\n",
    "- `spark.read.option('header', 'true').csv(...)`\n",
    "- `spark.read.csv(..., header=True, inferSchema=True)`"
   ]
  },
  {
   "cell_type": "code",
   "execution_count": 8,
   "id": "895a0640",
   "metadata": {},
   "outputs": [],
   "source": [
    "df = spark.read.option('header', 'true').csv('../data/melb_data.csv', inferSchema=True)"
   ]
  },
  {
   "cell_type": "code",
   "execution_count": 9,
   "id": "f7d54e25",
   "metadata": {},
   "outputs": [
    {
     "name": "stdout",
     "output_type": "stream",
     "text": [
      "+----------+-------------------+-----+----+---------+------+-------+----------+--------+--------+--------+--------+---+--------+------------+---------+-----------+---------+----------+--------------------+-------------+\n",
      "|    Suburb|            Address|Rooms|Type|    Price|Method|SellerG|      Date|Distance|Postcode|Bedroom2|Bathroom|Car|Landsize|BuildingArea|YearBuilt|CouncilArea|Lattitude|Longtitude|          Regionname|Propertycount|\n",
      "+----------+-------------------+-----+----+---------+------+-------+----------+--------+--------+--------+--------+---+--------+------------+---------+-----------+---------+----------+--------------------+-------------+\n",
      "|Abbotsford|       85 Turner St|    2|   h|1480000.0|     S| Biggin| 3/12/2016|     2.5|  3067.0|     2.0|     1.0|1.0|   202.0|        NULL|     NULL|      Yarra| -37.7996|  144.9984|Northern Metropol...|       4019.0|\n",
      "|Abbotsford|    25 Bloomburg St|    2|   h|1035000.0|     S| Biggin| 4/02/2016|     2.5|  3067.0|     2.0|     1.0|0.0|   156.0|        79.0|   1900.0|      Yarra| -37.8079|  144.9934|Northern Metropol...|       4019.0|\n",
      "|Abbotsford|       5 Charles St|    3|   h|1465000.0|    SP| Biggin| 4/03/2017|     2.5|  3067.0|     3.0|     2.0|0.0|   134.0|       150.0|   1900.0|      Yarra| -37.8093|  144.9944|Northern Metropol...|       4019.0|\n",
      "|Abbotsford|   40 Federation La|    3|   h| 850000.0|    PI| Biggin| 4/03/2017|     2.5|  3067.0|     3.0|     2.0|1.0|    94.0|        NULL|     NULL|      Yarra| -37.7969|  144.9969|Northern Metropol...|       4019.0|\n",
      "|Abbotsford|        55a Park St|    4|   h|1600000.0|    VB| Nelson| 4/06/2016|     2.5|  3067.0|     3.0|     1.0|2.0|   120.0|       142.0|   2014.0|      Yarra| -37.8072|  144.9941|Northern Metropol...|       4019.0|\n",
      "|Abbotsford|     129 Charles St|    2|   h| 941000.0|     S| Jellis| 7/05/2016|     2.5|  3067.0|     2.0|     1.0|0.0|   181.0|        NULL|     NULL|      Yarra| -37.8041|  144.9953|Northern Metropol...|       4019.0|\n",
      "|Abbotsford|       124 Yarra St|    3|   h|1876000.0|     S| Nelson| 7/05/2016|     2.5|  3067.0|     4.0|     2.0|0.0|   245.0|       210.0|   1910.0|      Yarra| -37.8024|  144.9993|Northern Metropol...|       4019.0|\n",
      "|Abbotsford|      98 Charles St|    2|   h|1636000.0|     S| Nelson| 8/10/2016|     2.5|  3067.0|     2.0|     1.0|2.0|   256.0|       107.0|   1890.0|      Yarra|  -37.806|  144.9954|Northern Metropol...|       4019.0|\n",
      "|Abbotsford| 6/241 Nicholson St|    1|   u| 300000.0|     S| Biggin| 8/10/2016|     2.5|  3067.0|     1.0|     1.0|1.0|     0.0|        NULL|     NULL|      Yarra| -37.8008|  144.9973|Northern Metropol...|       4019.0|\n",
      "|Abbotsford|      10 Valiant St|    2|   h|1097000.0|     S| Biggin| 8/10/2016|     2.5|  3067.0|     3.0|     1.0|2.0|   220.0|        75.0|   1900.0|      Yarra|  -37.801|  144.9989|Northern Metropol...|       4019.0|\n",
      "|Abbotsford| 411/8 Grosvenor St|    2|   u| 700000.0|    VB| Jellis|12/11/2016|     2.5|  3067.0|     2.0|     2.0|1.0|     0.0|        NULL|     NULL|      Yarra|  -37.811|  145.0067|Northern Metropol...|       4019.0|\n",
      "|Abbotsford|    40 Nicholson St|    3|   h|1350000.0|    VB| Nelson|12/11/2016|     2.5|  3067.0|     3.0|     2.0|2.0|   214.0|       190.0|   2005.0|      Yarra| -37.8085|  144.9964|Northern Metropol...|       4019.0|\n",
      "|Abbotsford|123/56 Nicholson St|    2|   u| 750000.0|     S| Biggin|12/11/2016|     2.5|  3067.0|     2.0|     2.0|1.0|     0.0|        94.0|   2009.0|      Yarra| -37.8078|  144.9965|Northern Metropol...|       4019.0|\n",
      "|Abbotsford|      45 William St|    2|   h|1172500.0|     S| Biggin|13/08/2016|     2.5|  3067.0|     2.0|     1.0|1.0|   195.0|        NULL|     NULL|      Yarra| -37.8084|  144.9973|Northern Metropol...|       4019.0|\n",
      "|Abbotsford| 7/20 Abbotsford St|    1|   u| 441000.0|    SP|   Greg|14/05/2016|     2.5|  3067.0|     1.0|     1.0|1.0|     0.0|        NULL|     NULL|      Yarra| -37.8016|  144.9988|Northern Metropol...|       4019.0|\n",
      "|Abbotsford|      16 William St|    2|   h|1310000.0|     S| Jellis|15/10/2016|     2.5|  3067.0|     2.0|     1.0|2.0|   238.0|        97.0|   1890.0|      Yarra|  -37.809|  144.9976|Northern Metropol...|       4019.0|\n",
      "|Abbotsford|        42 Henry St|    3|   h|1200000.0|     S| Jellis|16/07/2016|     2.5|  3067.0|     3.0|     2.0|1.0|   113.0|       110.0|   1880.0|      Yarra| -37.8056|   144.993|Northern Metropol...|       4019.0|\n",
      "|Abbotsford|        78 Yarra St|    3|   h|1176500.0|     S| LITTLE|16/07/2016|     2.5|  3067.0|     2.0|     1.0|1.0|   138.0|       105.0|   1890.0|      Yarra| -37.8021|  144.9965|Northern Metropol...|       4019.0|\n",
      "|Abbotsford|   196 Nicholson St|    3|   h| 955000.0|     S|Collins|17/09/2016|     2.5|  3067.0|     3.0|     1.0|0.0|   183.0|        NULL|     NULL|      Yarra| -37.8022|  144.9975|Northern Metropol...|       4019.0|\n",
      "|Abbotsford|      42 Valiant St|    2|   h| 890000.0|     S| Biggin|17/09/2016|     2.5|  3067.0|     2.0|     1.0|1.0|   150.0|        73.0|   1985.0|      Yarra| -37.8011|  145.0004|Northern Metropol...|       4019.0|\n",
      "+----------+-------------------+-----+----+---------+------+-------+----------+--------+--------+--------+--------+---+--------+------------+---------+-----------+---------+----------+--------------------+-------------+\n",
      "only showing top 20 rows\n",
      "\n"
     ]
    }
   ],
   "source": [
    "df.show()"
   ]
  },
  {
   "cell_type": "code",
   "execution_count": 11,
   "id": "6e26bbbc",
   "metadata": {},
   "outputs": [
    {
     "name": "stdout",
     "output_type": "stream",
     "text": [
      "+----------+-------------------+-----+----+---------+------+-------+----------+--------+--------+--------+--------+---+--------+------------+---------+-----------+---------+----------+--------------------+-------------+\n",
      "|    Suburb|            Address|Rooms|Type|    Price|Method|SellerG|      Date|Distance|Postcode|Bedroom2|Bathroom|Car|Landsize|BuildingArea|YearBuilt|CouncilArea|Lattitude|Longtitude|          Regionname|Propertycount|\n",
      "+----------+-------------------+-----+----+---------+------+-------+----------+--------+--------+--------+--------+---+--------+------------+---------+-----------+---------+----------+--------------------+-------------+\n",
      "|Abbotsford|       85 Turner St|    2|   h|1480000.0|     S| Biggin| 3/12/2016|     2.5|  3067.0|     2.0|     1.0|1.0|   202.0|        NULL|     NULL|      Yarra| -37.7996|  144.9984|Northern Metropol...|       4019.0|\n",
      "|Abbotsford|    25 Bloomburg St|    2|   h|1035000.0|     S| Biggin| 4/02/2016|     2.5|  3067.0|     2.0|     1.0|0.0|   156.0|        79.0|   1900.0|      Yarra| -37.8079|  144.9934|Northern Metropol...|       4019.0|\n",
      "|Abbotsford|       5 Charles St|    3|   h|1465000.0|    SP| Biggin| 4/03/2017|     2.5|  3067.0|     3.0|     2.0|0.0|   134.0|       150.0|   1900.0|      Yarra| -37.8093|  144.9944|Northern Metropol...|       4019.0|\n",
      "|Abbotsford|   40 Federation La|    3|   h| 850000.0|    PI| Biggin| 4/03/2017|     2.5|  3067.0|     3.0|     2.0|1.0|    94.0|        NULL|     NULL|      Yarra| -37.7969|  144.9969|Northern Metropol...|       4019.0|\n",
      "|Abbotsford|        55a Park St|    4|   h|1600000.0|    VB| Nelson| 4/06/2016|     2.5|  3067.0|     3.0|     1.0|2.0|   120.0|       142.0|   2014.0|      Yarra| -37.8072|  144.9941|Northern Metropol...|       4019.0|\n",
      "|Abbotsford|     129 Charles St|    2|   h| 941000.0|     S| Jellis| 7/05/2016|     2.5|  3067.0|     2.0|     1.0|0.0|   181.0|        NULL|     NULL|      Yarra| -37.8041|  144.9953|Northern Metropol...|       4019.0|\n",
      "|Abbotsford|       124 Yarra St|    3|   h|1876000.0|     S| Nelson| 7/05/2016|     2.5|  3067.0|     4.0|     2.0|0.0|   245.0|       210.0|   1910.0|      Yarra| -37.8024|  144.9993|Northern Metropol...|       4019.0|\n",
      "|Abbotsford|      98 Charles St|    2|   h|1636000.0|     S| Nelson| 8/10/2016|     2.5|  3067.0|     2.0|     1.0|2.0|   256.0|       107.0|   1890.0|      Yarra|  -37.806|  144.9954|Northern Metropol...|       4019.0|\n",
      "|Abbotsford| 6/241 Nicholson St|    1|   u| 300000.0|     S| Biggin| 8/10/2016|     2.5|  3067.0|     1.0|     1.0|1.0|     0.0|        NULL|     NULL|      Yarra| -37.8008|  144.9973|Northern Metropol...|       4019.0|\n",
      "|Abbotsford|      10 Valiant St|    2|   h|1097000.0|     S| Biggin| 8/10/2016|     2.5|  3067.0|     3.0|     1.0|2.0|   220.0|        75.0|   1900.0|      Yarra|  -37.801|  144.9989|Northern Metropol...|       4019.0|\n",
      "|Abbotsford| 411/8 Grosvenor St|    2|   u| 700000.0|    VB| Jellis|12/11/2016|     2.5|  3067.0|     2.0|     2.0|1.0|     0.0|        NULL|     NULL|      Yarra|  -37.811|  145.0067|Northern Metropol...|       4019.0|\n",
      "|Abbotsford|    40 Nicholson St|    3|   h|1350000.0|    VB| Nelson|12/11/2016|     2.5|  3067.0|     3.0|     2.0|2.0|   214.0|       190.0|   2005.0|      Yarra| -37.8085|  144.9964|Northern Metropol...|       4019.0|\n",
      "|Abbotsford|123/56 Nicholson St|    2|   u| 750000.0|     S| Biggin|12/11/2016|     2.5|  3067.0|     2.0|     2.0|1.0|     0.0|        94.0|   2009.0|      Yarra| -37.8078|  144.9965|Northern Metropol...|       4019.0|\n",
      "|Abbotsford|      45 William St|    2|   h|1172500.0|     S| Biggin|13/08/2016|     2.5|  3067.0|     2.0|     1.0|1.0|   195.0|        NULL|     NULL|      Yarra| -37.8084|  144.9973|Northern Metropol...|       4019.0|\n",
      "|Abbotsford| 7/20 Abbotsford St|    1|   u| 441000.0|    SP|   Greg|14/05/2016|     2.5|  3067.0|     1.0|     1.0|1.0|     0.0|        NULL|     NULL|      Yarra| -37.8016|  144.9988|Northern Metropol...|       4019.0|\n",
      "|Abbotsford|      16 William St|    2|   h|1310000.0|     S| Jellis|15/10/2016|     2.5|  3067.0|     2.0|     1.0|2.0|   238.0|        97.0|   1890.0|      Yarra|  -37.809|  144.9976|Northern Metropol...|       4019.0|\n",
      "|Abbotsford|        42 Henry St|    3|   h|1200000.0|     S| Jellis|16/07/2016|     2.5|  3067.0|     3.0|     2.0|1.0|   113.0|       110.0|   1880.0|      Yarra| -37.8056|   144.993|Northern Metropol...|       4019.0|\n",
      "|Abbotsford|        78 Yarra St|    3|   h|1176500.0|     S| LITTLE|16/07/2016|     2.5|  3067.0|     2.0|     1.0|1.0|   138.0|       105.0|   1890.0|      Yarra| -37.8021|  144.9965|Northern Metropol...|       4019.0|\n",
      "|Abbotsford|   196 Nicholson St|    3|   h| 955000.0|     S|Collins|17/09/2016|     2.5|  3067.0|     3.0|     1.0|0.0|   183.0|        NULL|     NULL|      Yarra| -37.8022|  144.9975|Northern Metropol...|       4019.0|\n",
      "|Abbotsford|      42 Valiant St|    2|   h| 890000.0|     S| Biggin|17/09/2016|     2.5|  3067.0|     2.0|     1.0|1.0|   150.0|        73.0|   1985.0|      Yarra| -37.8011|  145.0004|Northern Metropol...|       4019.0|\n",
      "+----------+-------------------+-----+----+---------+------+-------+----------+--------+--------+--------+--------+---+--------+------------+---------+-----------+---------+----------+--------------------+-------------+\n",
      "only showing top 20 rows\n",
      "\n"
     ]
    }
   ],
   "source": [
    "data = spark.read.csv('../data/melb_data.csv', header=True, inferSchema=True)\n",
    "data.show()"
   ]
  },
  {
   "cell_type": "code",
   "execution_count": 14,
   "id": "e6d5c40c",
   "metadata": {},
   "outputs": [
    {
     "data": {
      "text/plain": [
       "(pyspark.sql.dataframe.DataFrame, pyspark.sql.dataframe.DataFrame)"
      ]
     },
     "execution_count": 14,
     "metadata": {},
     "output_type": "execute_result"
    }
   ],
   "source": [
    "type(df), type(data)"
   ]
  },
  {
   "cell_type": "markdown",
   "id": "56bd215a",
   "metadata": {},
   "source": [
    "## 2. To check the data types of the columns\n",
    "1. printSchema()\n",
    "2. .dtypes"
   ]
  },
  {
   "cell_type": "code",
   "execution_count": 10,
   "id": "50ef3030",
   "metadata": {},
   "outputs": [
    {
     "name": "stdout",
     "output_type": "stream",
     "text": [
      "root\n",
      " |-- Suburb: string (nullable = true)\n",
      " |-- Address: string (nullable = true)\n",
      " |-- Rooms: integer (nullable = true)\n",
      " |-- Type: string (nullable = true)\n",
      " |-- Price: double (nullable = true)\n",
      " |-- Method: string (nullable = true)\n",
      " |-- SellerG: string (nullable = true)\n",
      " |-- Date: string (nullable = true)\n",
      " |-- Distance: double (nullable = true)\n",
      " |-- Postcode: double (nullable = true)\n",
      " |-- Bedroom2: double (nullable = true)\n",
      " |-- Bathroom: double (nullable = true)\n",
      " |-- Car: double (nullable = true)\n",
      " |-- Landsize: double (nullable = true)\n",
      " |-- BuildingArea: double (nullable = true)\n",
      " |-- YearBuilt: double (nullable = true)\n",
      " |-- CouncilArea: string (nullable = true)\n",
      " |-- Lattitude: double (nullable = true)\n",
      " |-- Longtitude: double (nullable = true)\n",
      " |-- Regionname: string (nullable = true)\n",
      " |-- Propertycount: double (nullable = true)\n",
      "\n"
     ]
    }
   ],
   "source": [
    "df.printSchema()"
   ]
  },
  {
   "cell_type": "code",
   "execution_count": 26,
   "id": "45e87eaf",
   "metadata": {},
   "outputs": [
    {
     "data": {
      "text/plain": [
       "[('Suburb', 'string'),\n",
       " ('Address', 'string'),\n",
       " ('Rooms', 'int'),\n",
       " ('Type', 'string'),\n",
       " ('Price', 'double'),\n",
       " ('Method', 'string'),\n",
       " ('SellerG', 'string'),\n",
       " ('Date', 'string'),\n",
       " ('Distance', 'double'),\n",
       " ('Postcode', 'double'),\n",
       " ('Bedroom2', 'double'),\n",
       " ('Bathroom', 'double'),\n",
       " ('Car', 'double'),\n",
       " ('Landsize', 'double'),\n",
       " ('BuildingArea', 'double'),\n",
       " ('YearBuilt', 'double'),\n",
       " ('CouncilArea', 'string'),\n",
       " ('Lattitude', 'double'),\n",
       " ('Longtitude', 'double'),\n",
       " ('Regionname', 'string'),\n",
       " ('Propertycount', 'double')]"
      ]
     },
     "execution_count": 26,
     "metadata": {},
     "output_type": "execute_result"
    }
   ],
   "source": [
    "df.dtypes"
   ]
  },
  {
   "cell_type": "code",
   "execution_count": 13,
   "id": "fcbdfbad",
   "metadata": {},
   "outputs": [
    {
     "name": "stdout",
     "output_type": "stream",
     "text": [
      "root\n",
      " |-- Suburb: string (nullable = true)\n",
      " |-- Address: string (nullable = true)\n",
      " |-- Rooms: integer (nullable = true)\n",
      " |-- Type: string (nullable = true)\n",
      " |-- Price: double (nullable = true)\n",
      " |-- Method: string (nullable = true)\n",
      " |-- SellerG: string (nullable = true)\n",
      " |-- Date: string (nullable = true)\n",
      " |-- Distance: double (nullable = true)\n",
      " |-- Postcode: double (nullable = true)\n",
      " |-- Bedroom2: double (nullable = true)\n",
      " |-- Bathroom: double (nullable = true)\n",
      " |-- Car: double (nullable = true)\n",
      " |-- Landsize: double (nullable = true)\n",
      " |-- BuildingArea: double (nullable = true)\n",
      " |-- YearBuilt: double (nullable = true)\n",
      " |-- CouncilArea: string (nullable = true)\n",
      " |-- Lattitude: double (nullable = true)\n",
      " |-- Longtitude: double (nullable = true)\n",
      " |-- Regionname: string (nullable = true)\n",
      " |-- Propertycount: double (nullable = true)\n",
      "\n"
     ]
    }
   ],
   "source": [
    "data.printSchema()"
   ]
  },
  {
   "cell_type": "code",
   "execution_count": 31,
   "id": "dd2ba3e5",
   "metadata": {},
   "outputs": [
    {
     "data": {
      "text/plain": [
       "[('Address', 'string')]"
      ]
     },
     "execution_count": 31,
     "metadata": {},
     "output_type": "execute_result"
    }
   ],
   "source": [
    "df.select('Address').dtypes"
   ]
  },
  {
   "cell_type": "markdown",
   "id": "fdcabc02",
   "metadata": {},
   "source": [
    "## 3. Selecting Columns and Indexing"
   ]
  },
  {
   "cell_type": "code",
   "execution_count": 15,
   "id": "dc6dcd70",
   "metadata": {},
   "outputs": [
    {
     "data": {
      "text/plain": [
       "['Suburb',\n",
       " 'Address',\n",
       " 'Rooms',\n",
       " 'Type',\n",
       " 'Price',\n",
       " 'Method',\n",
       " 'SellerG',\n",
       " 'Date',\n",
       " 'Distance',\n",
       " 'Postcode',\n",
       " 'Bedroom2',\n",
       " 'Bathroom',\n",
       " 'Car',\n",
       " 'Landsize',\n",
       " 'BuildingArea',\n",
       " 'YearBuilt',\n",
       " 'CouncilArea',\n",
       " 'Lattitude',\n",
       " 'Longtitude',\n",
       " 'Regionname',\n",
       " 'Propertycount']"
      ]
     },
     "execution_count": 15,
     "metadata": {},
     "output_type": "execute_result"
    }
   ],
   "source": [
    "df.columns"
   ]
  },
  {
   "cell_type": "code",
   "execution_count": 16,
   "id": "d08b85a9",
   "metadata": {},
   "outputs": [
    {
     "data": {
      "text/plain": [
       "['Suburb',\n",
       " 'Address',\n",
       " 'Rooms',\n",
       " 'Type',\n",
       " 'Price',\n",
       " 'Method',\n",
       " 'SellerG',\n",
       " 'Date',\n",
       " 'Distance',\n",
       " 'Postcode',\n",
       " 'Bedroom2',\n",
       " 'Bathroom',\n",
       " 'Car',\n",
       " 'Landsize',\n",
       " 'BuildingArea',\n",
       " 'YearBuilt',\n",
       " 'CouncilArea',\n",
       " 'Lattitude',\n",
       " 'Longtitude',\n",
       " 'Regionname',\n",
       " 'Propertycount']"
      ]
     },
     "execution_count": 16,
     "metadata": {},
     "output_type": "execute_result"
    }
   ],
   "source": [
    "data.columns"
   ]
  },
  {
   "cell_type": "code",
   "execution_count": 21,
   "id": "9478919e",
   "metadata": {},
   "outputs": [
    {
     "data": {
      "text/plain": [
       "DataFrame[Address: string]"
      ]
     },
     "execution_count": 21,
     "metadata": {},
     "output_type": "execute_result"
    }
   ],
   "source": [
    "df.select('Address')"
   ]
  },
  {
   "cell_type": "code",
   "execution_count": 22,
   "id": "7fdaf683",
   "metadata": {},
   "outputs": [
    {
     "name": "stdout",
     "output_type": "stream",
     "text": [
      "+-------------------+\n",
      "|            Address|\n",
      "+-------------------+\n",
      "|       85 Turner St|\n",
      "|    25 Bloomburg St|\n",
      "|       5 Charles St|\n",
      "|   40 Federation La|\n",
      "|        55a Park St|\n",
      "|     129 Charles St|\n",
      "|       124 Yarra St|\n",
      "|      98 Charles St|\n",
      "| 6/241 Nicholson St|\n",
      "|      10 Valiant St|\n",
      "| 411/8 Grosvenor St|\n",
      "|    40 Nicholson St|\n",
      "|123/56 Nicholson St|\n",
      "|      45 William St|\n",
      "| 7/20 Abbotsford St|\n",
      "|      16 William St|\n",
      "|        42 Henry St|\n",
      "|        78 Yarra St|\n",
      "|   196 Nicholson St|\n",
      "|      42 Valiant St|\n",
      "+-------------------+\n",
      "only showing top 20 rows\n",
      "\n"
     ]
    }
   ],
   "source": [
    "df.select('Address').show()"
   ]
  },
  {
   "cell_type": "code",
   "execution_count": 23,
   "id": "269e573b",
   "metadata": {},
   "outputs": [
    {
     "name": "stdout",
     "output_type": "stream",
     "text": [
      "+-------------------+----------+\n",
      "|            Address|    Suburb|\n",
      "+-------------------+----------+\n",
      "|       85 Turner St|Abbotsford|\n",
      "|    25 Bloomburg St|Abbotsford|\n",
      "|       5 Charles St|Abbotsford|\n",
      "|   40 Federation La|Abbotsford|\n",
      "|        55a Park St|Abbotsford|\n",
      "|     129 Charles St|Abbotsford|\n",
      "|       124 Yarra St|Abbotsford|\n",
      "|      98 Charles St|Abbotsford|\n",
      "| 6/241 Nicholson St|Abbotsford|\n",
      "|      10 Valiant St|Abbotsford|\n",
      "| 411/8 Grosvenor St|Abbotsford|\n",
      "|    40 Nicholson St|Abbotsford|\n",
      "|123/56 Nicholson St|Abbotsford|\n",
      "|      45 William St|Abbotsford|\n",
      "| 7/20 Abbotsford St|Abbotsford|\n",
      "|      16 William St|Abbotsford|\n",
      "|        42 Henry St|Abbotsford|\n",
      "|        78 Yarra St|Abbotsford|\n",
      "|   196 Nicholson St|Abbotsford|\n",
      "|      42 Valiant St|Abbotsford|\n",
      "+-------------------+----------+\n",
      "only showing top 20 rows\n",
      "\n"
     ]
    }
   ],
   "source": [
    "df.select(['Address', 'Suburb']).show()"
   ]
  },
  {
   "cell_type": "code",
   "execution_count": 24,
   "id": "050dd1d7",
   "metadata": {},
   "outputs": [
    {
     "data": {
      "text/plain": [
       "Column<'Address'>"
      ]
     },
     "execution_count": 24,
     "metadata": {},
     "output_type": "execute_result"
    }
   ],
   "source": [
    "df['Address']"
   ]
  },
  {
   "cell_type": "code",
   "execution_count": 25,
   "id": "056a5889",
   "metadata": {},
   "outputs": [
    {
     "ename": "TypeError",
     "evalue": "'Column' object is not callable",
     "output_type": "error",
     "traceback": [
      "\u001b[1;31m---------------------------------------------------------------------------\u001b[0m",
      "\u001b[1;31mTypeError\u001b[0m                                 Traceback (most recent call last)",
      "\u001b[1;32m~\\AppData\\Local\\Temp\\ipykernel_15896\\419999581.py\u001b[0m in \u001b[0;36m<module>\u001b[1;34m\u001b[0m\n\u001b[1;32m----> 1\u001b[1;33m \u001b[0mdf\u001b[0m\u001b[1;33m[\u001b[0m\u001b[1;34m'Address'\u001b[0m\u001b[1;33m]\u001b[0m\u001b[1;33m.\u001b[0m\u001b[0mshow\u001b[0m\u001b[1;33m(\u001b[0m\u001b[1;33m)\u001b[0m\u001b[1;33m\u001b[0m\u001b[1;33m\u001b[0m\u001b[0m\n\u001b[0m",
      "\u001b[1;31mTypeError\u001b[0m: 'Column' object is not callable"
     ]
    }
   ],
   "source": [
    "# Error, doesn't work like select(...).show()\n",
    "df['Address'].show()"
   ]
  },
  {
   "cell_type": "markdown",
   "id": "d5da83de",
   "metadata": {},
   "source": [
    "## 4. describe() function"
   ]
  },
  {
   "cell_type": "code",
   "execution_count": 32,
   "id": "4f454ab4",
   "metadata": {},
   "outputs": [
    {
     "data": {
      "text/plain": [
       "DataFrame[summary: string, Suburb: string, Address: string, Rooms: string, Type: string, Price: string, Method: string, SellerG: string, Date: string, Distance: string, Postcode: string, Bedroom2: string, Bathroom: string, Car: string, Landsize: string, BuildingArea: string, YearBuilt: string, CouncilArea: string, Lattitude: string, Longtitude: string, Regionname: string, Propertycount: string]"
      ]
     },
     "execution_count": 32,
     "metadata": {},
     "output_type": "execute_result"
    }
   ],
   "source": [
    "df.describe()"
   ]
  },
  {
   "cell_type": "code",
   "execution_count": 33,
   "id": "066bc508",
   "metadata": {},
   "outputs": [
    {
     "name": "stdout",
     "output_type": "stream",
     "text": [
      "+-------+----------+-------------+------------------+-----+-----------------+------+-------+---------+------------------+-----------------+------------------+------------------+------------------+-----------------+------------------+------------------+------------+-------------------+-------------------+--------------------+-----------------+\n",
      "|summary|    Suburb|      Address|             Rooms| Type|            Price|Method|SellerG|     Date|          Distance|         Postcode|          Bedroom2|          Bathroom|               Car|         Landsize|      BuildingArea|         YearBuilt| CouncilArea|          Lattitude|         Longtitude|          Regionname|    Propertycount|\n",
      "+-------+----------+-------------+------------------+-----+-----------------+------+-------+---------+------------------+-----------------+------------------+------------------+------------------+-----------------+------------------+------------------+------------+-------------------+-------------------+--------------------+-----------------+\n",
      "|  count|     13580|        13580|             13580|13580|            13580| 13580|  13580|    13580|             13580|            13580|             13580|             13580|             13518|            13580|              7130|              8205|       12211|              13580|              13580|               13580|            13580|\n",
      "|   mean|      NULL|         NULL|   2.9379970544919| NULL|1075684.079455081|  NULL|   NULL|     NULL|10.137776141384117|3105.301914580265|2.9147275405007362|1.5342415316642122|1.6100754549489569|558.4161266568483|151.96764988779805|1964.6842169408897|        NULL|-37.809202733431505| 144.99521618777578|                NULL|7454.417378497791|\n",
      "| stddev|      NULL|         NULL|0.9557479384215565| NULL|639310.7242960163|  NULL|   NULL|     NULL| 5.868724943071715|90.67696408711355| 0.965921061708427|0.6917117224588424| 0.962633519245631|3990.669241109034| 541.0145376263513| 37.27376222396062|        NULL|0.07925982260355832|0.10391556140730973|                NULL|4378.581771795497|\n",
      "|    min|Abbotsford|  1 Adelle Ct|                 1|    h|          85000.0|    PI|@Realty|1/07/2017|               0.0|           3000.0|               0.0|               0.0|               0.0|              0.0|               0.0|            1196.0|     Banyule|          -38.18255|          144.43181|Eastern Metropolitan|            249.0|\n",
      "|    max|Yarraville|9b Stewart St|                10|    u|        9000000.0|    VB|  iTRAK|9/09/2017|              48.1|           3977.0|              20.0|               8.0|              10.0|         433014.0|           44515.0|            2018.0|Yarra Ranges|          -37.40853|          145.52635|    Western Victoria|          21650.0|\n",
      "+-------+----------+-------------+------------------+-----+-----------------+------+-------+---------+------------------+-----------------+------------------+------------------+------------------+-----------------+------------------+------------------+------------+-------------------+-------------------+--------------------+-----------------+\n",
      "\n"
     ]
    }
   ],
   "source": [
    "df.describe().show()"
   ]
  },
  {
   "cell_type": "markdown",
   "id": "052e3f2a",
   "metadata": {},
   "source": [
    "## 5. Adding and Dropping Columns"
   ]
  },
  {
   "cell_type": "code",
   "execution_count": 35,
   "id": "6dce859d",
   "metadata": {},
   "outputs": [],
   "source": [
    "df = df.withColumn('YearBuilt Updated', df['YearBuilt'] + 2)"
   ]
  },
  {
   "cell_type": "code",
   "execution_count": 37,
   "id": "611843ce",
   "metadata": {},
   "outputs": [
    {
     "name": "stdout",
     "output_type": "stream",
     "text": [
      "+---------+-----------------+\n",
      "|YearBuilt|YearBuilt Updated|\n",
      "+---------+-----------------+\n",
      "|     NULL|             NULL|\n",
      "|   1900.0|           1902.0|\n",
      "|   1900.0|           1902.0|\n",
      "|     NULL|             NULL|\n",
      "|   2014.0|           2016.0|\n",
      "|     NULL|             NULL|\n",
      "|   1910.0|           1912.0|\n",
      "|   1890.0|           1892.0|\n",
      "|     NULL|             NULL|\n",
      "|   1900.0|           1902.0|\n",
      "|     NULL|             NULL|\n",
      "|   2005.0|           2007.0|\n",
      "|   2009.0|           2011.0|\n",
      "|     NULL|             NULL|\n",
      "|     NULL|             NULL|\n",
      "|   1890.0|           1892.0|\n",
      "|   1880.0|           1882.0|\n",
      "|   1890.0|           1892.0|\n",
      "|     NULL|             NULL|\n",
      "|   1985.0|           1987.0|\n",
      "+---------+-----------------+\n",
      "only showing top 20 rows\n",
      "\n"
     ]
    }
   ],
   "source": [
    "df.select(['YearBuilt', 'YearBuilt Updated']).show()"
   ]
  },
  {
   "cell_type": "code",
   "execution_count": 39,
   "id": "44166dd2",
   "metadata": {},
   "outputs": [],
   "source": [
    "df = df.drop('YearBuilt Updated')"
   ]
  },
  {
   "cell_type": "code",
   "execution_count": 40,
   "id": "597197bb",
   "metadata": {},
   "outputs": [
    {
     "data": {
      "text/plain": [
       "['Suburb',\n",
       " 'Address',\n",
       " 'Rooms',\n",
       " 'Type',\n",
       " 'Price',\n",
       " 'Method',\n",
       " 'SellerG',\n",
       " 'Date',\n",
       " 'Distance',\n",
       " 'Postcode',\n",
       " 'Bedroom2',\n",
       " 'Bathroom',\n",
       " 'Car',\n",
       " 'Landsize',\n",
       " 'BuildingArea',\n",
       " 'YearBuilt',\n",
       " 'CouncilArea',\n",
       " 'Lattitude',\n",
       " 'Longtitude',\n",
       " 'Regionname',\n",
       " 'Propertycount']"
      ]
     },
     "execution_count": 40,
     "metadata": {},
     "output_type": "execute_result"
    }
   ],
   "source": [
    "df.columns"
   ]
  },
  {
   "cell_type": "markdown",
   "id": "2d501ff2",
   "metadata": {},
   "source": [
    "## 6. Renaming the Columns"
   ]
  },
  {
   "cell_type": "code",
   "execution_count": 42,
   "id": "e7f5e422",
   "metadata": {},
   "outputs": [
    {
     "data": {
      "text/plain": [
       "['Suburb',\n",
       " 'Address Line',\n",
       " 'Rooms',\n",
       " 'Type',\n",
       " 'Price',\n",
       " 'Method',\n",
       " 'SellerG',\n",
       " 'Date',\n",
       " 'Distance',\n",
       " 'Postcode',\n",
       " 'Bedroom2',\n",
       " 'Bathroom',\n",
       " 'Car',\n",
       " 'Landsize',\n",
       " 'BuildingArea',\n",
       " 'YearBuilt',\n",
       " 'CouncilArea',\n",
       " 'Lattitude',\n",
       " 'Longtitude',\n",
       " 'Regionname',\n",
       " 'Propertycount']"
      ]
     },
     "execution_count": 42,
     "metadata": {},
     "output_type": "execute_result"
    }
   ],
   "source": [
    "df.withColumnRenamed('Address', 'Address Line').columns"
   ]
  },
  {
   "cell_type": "code",
   "execution_count": null,
   "id": "f2568753",
   "metadata": {},
   "outputs": [],
   "source": []
  }
 ],
 "metadata": {
  "kernelspec": {
   "display_name": "Python 3 (ipykernel)",
   "language": "python",
   "name": "python3"
  },
  "language_info": {
   "codemirror_mode": {
    "name": "ipython",
    "version": 3
   },
   "file_extension": ".py",
   "mimetype": "text/x-python",
   "name": "python",
   "nbconvert_exporter": "python",
   "pygments_lexer": "ipython3",
   "version": "3.9.13"
  }
 },
 "nbformat": 4,
 "nbformat_minor": 5
}
